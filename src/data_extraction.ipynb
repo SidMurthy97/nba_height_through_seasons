{
 "cells": [
  {
   "cell_type": "code",
   "execution_count": 1,
   "metadata": {},
   "outputs": [],
   "source": [
    "import pandas as pd\n",
    "import numpy as np\n",
    "import matplotlib.pyplot as plt\n",
    "from tqdm import tqdm, trange\n",
    "import seaborn as sns\n",
    "from pprint import pprint\n",
    "import requests\n",
    "from bs4 import BeautifulSoup\n",
    "from selenium import webdriver\n",
    "from selenium.webdriver.common.keys import Keys\n",
    "from selenium.webdriver.common.by import By\n",
    "from selenium.webdriver.support.ui import Select\n",
    "\n",
    "import time "
   ]
  },
  {
   "cell_type": "code",
   "execution_count": 2,
   "metadata": {},
   "outputs": [],
   "source": [
    "seasons_int = np.linspace(1996,2022,27, dtype=int)\n",
    "\n",
    "seasons = []\n",
    "for season_int in seasons_int:\n",
    "    \n",
    "    season = str(season_int) + \"-\" + str(season_int + 1)[-2:]\n",
    "    seasons.append(season)"
   ]
  },
  {
   "cell_type": "code",
   "execution_count": 3,
   "metadata": {},
   "outputs": [
    {
     "name": "stderr",
     "output_type": "stream",
     "text": [
      "C:\\Users\\sid.murthy\\AppData\\Local\\Temp\\ipykernel_18660\\4158409892.py:1: DeprecationWarning: executable_path has been deprecated, please pass in a Service object\n",
      "  driver = webdriver.Chrome('../chromedriver.exe')\n"
     ]
    }
   ],
   "source": [
    "driver = webdriver.Chrome('../chromedriver.exe')\n",
    "driver.get(f'https://www.nba.com/stats/players/bio?Season={season}')\n",
    "\n",
    "table_header_webelement =driver.find_elements(By.XPATH,\n",
    "                    '//*[@id=\"__next\"]/div[2]/div[2]/div[3]/section[2]/div/div[2]/div[3]/table/thead/tr/th')\n",
    "\n",
    "header = []\n",
    "for element in table_header_webelement:\n",
    "    header.append(element.text)\n",
    "\n",
    "header.append(\"season\")\n",
    "\n",
    "driver.close()"
   ]
  },
  {
   "cell_type": "code",
   "execution_count": 4,
   "metadata": {},
   "outputs": [
    {
     "name": "stdout",
     "output_type": "stream",
     "text": [
      "season: 1996-97\n"
     ]
    },
    {
     "name": "stderr",
     "output_type": "stream",
     "text": [
      "C:\\Users\\sid.murthy\\AppData\\Local\\Temp\\ipykernel_18660\\3012738454.py:4: DeprecationWarning: executable_path has been deprecated, please pass in a Service object\n",
      "  driver = webdriver.Chrome('../chromedriver.exe')\n",
      "100%|██████████| 439/439 [07:15<00:00,  1.01it/s]\n"
     ]
    },
    {
     "name": "stdout",
     "output_type": "stream",
     "text": [
      "season: 1997-98\n"
     ]
    },
    {
     "name": "stderr",
     "output_type": "stream",
     "text": [
      "100%|██████████| 437/437 [07:17<00:00,  1.00s/it]\n"
     ]
    },
    {
     "name": "stdout",
     "output_type": "stream",
     "text": [
      "season: 1998-99\n"
     ]
    },
    {
     "name": "stderr",
     "output_type": "stream",
     "text": [
      "100%|██████████| 438/438 [07:51<00:00,  1.08s/it]\n"
     ]
    },
    {
     "name": "stdout",
     "output_type": "stream",
     "text": [
      "season: 1999-00\n"
     ]
    },
    {
     "name": "stderr",
     "output_type": "stream",
     "text": [
      "100%|██████████| 437/437 [08:08<00:00,  1.12s/it]\n"
     ]
    },
    {
     "name": "stdout",
     "output_type": "stream",
     "text": [
      "season: 2000-01\n"
     ]
    },
    {
     "name": "stderr",
     "output_type": "stream",
     "text": [
      "100%|██████████| 439/439 [06:36<00:00,  1.11it/s]\n"
     ]
    },
    {
     "name": "stdout",
     "output_type": "stream",
     "text": [
      "season: 2001-02\n"
     ]
    },
    {
     "name": "stderr",
     "output_type": "stream",
     "text": [
      "100%|██████████| 438/438 [07:27<00:00,  1.02s/it]\n"
     ]
    },
    {
     "name": "stdout",
     "output_type": "stream",
     "text": [
      "season: 2002-03\n"
     ]
    },
    {
     "name": "stderr",
     "output_type": "stream",
     "text": [
      "100%|██████████| 426/426 [07:07<00:00,  1.00s/it]\n"
     ]
    },
    {
     "name": "stdout",
     "output_type": "stream",
     "text": [
      "season: 2003-04\n"
     ]
    },
    {
     "name": "stderr",
     "output_type": "stream",
     "text": [
      "100%|██████████| 440/440 [07:04<00:00,  1.04it/s]\n"
     ]
    },
    {
     "name": "stdout",
     "output_type": "stream",
     "text": [
      "season: 2004-05\n"
     ]
    },
    {
     "name": "stderr",
     "output_type": "stream",
     "text": [
      "100%|██████████| 462/462 [09:06<00:00,  1.18s/it]\n"
     ]
    },
    {
     "name": "stdout",
     "output_type": "stream",
     "text": [
      "season: 2005-06\n"
     ]
    },
    {
     "name": "stderr",
     "output_type": "stream",
     "text": [
      "100%|██████████| 456/456 [07:39<00:00,  1.01s/it]\n"
     ]
    },
    {
     "name": "stdout",
     "output_type": "stream",
     "text": [
      "season: 2006-07\n"
     ]
    },
    {
     "name": "stderr",
     "output_type": "stream",
     "text": [
      "100%|██████████| 456/456 [07:36<00:00,  1.00s/it]\n"
     ]
    },
    {
     "name": "stdout",
     "output_type": "stream",
     "text": [
      "season: 2007-08\n"
     ]
    },
    {
     "name": "stderr",
     "output_type": "stream",
     "text": [
      "100%|██████████| 449/449 [04:49<00:00,  1.55it/s]\n"
     ]
    },
    {
     "name": "stdout",
     "output_type": "stream",
     "text": [
      "season: 2008-09\n"
     ]
    },
    {
     "name": "stderr",
     "output_type": "stream",
     "text": [
      "100%|██████████| 443/443 [08:26<00:00,  1.14s/it]\n"
     ]
    },
    {
     "name": "stdout",
     "output_type": "stream",
     "text": [
      "season: 2009-10\n"
     ]
    },
    {
     "name": "stderr",
     "output_type": "stream",
     "text": [
      "100%|██████████| 440/440 [07:29<00:00,  1.02s/it]\n"
     ]
    },
    {
     "name": "stdout",
     "output_type": "stream",
     "text": [
      "season: 2010-11\n"
     ]
    },
    {
     "name": "stderr",
     "output_type": "stream",
     "text": [
      "100%|██████████| 450/450 [07:17<00:00,  1.03it/s]\n"
     ]
    },
    {
     "name": "stdout",
     "output_type": "stream",
     "text": [
      "season: 2011-12\n"
     ]
    },
    {
     "name": "stderr",
     "output_type": "stream",
     "text": [
      "100%|██████████| 476/476 [08:24<00:00,  1.06s/it]\n"
     ]
    },
    {
     "name": "stdout",
     "output_type": "stream",
     "text": [
      "season: 2012-13\n"
     ]
    },
    {
     "name": "stderr",
     "output_type": "stream",
     "text": [
      "100%|██████████| 467/467 [07:21<00:00,  1.06it/s]\n"
     ]
    },
    {
     "name": "stdout",
     "output_type": "stream",
     "text": [
      "season: 2013-14\n"
     ]
    },
    {
     "name": "stderr",
     "output_type": "stream",
     "text": [
      "100%|██████████| 480/480 [08:03<00:00,  1.01s/it]\n"
     ]
    },
    {
     "name": "stdout",
     "output_type": "stream",
     "text": [
      "season: 2014-15\n"
     ]
    },
    {
     "name": "stderr",
     "output_type": "stream",
     "text": [
      "100%|██████████| 490/490 [08:03<00:00,  1.01it/s]\n"
     ]
    },
    {
     "name": "stdout",
     "output_type": "stream",
     "text": [
      "season: 2015-16\n"
     ]
    },
    {
     "name": "stderr",
     "output_type": "stream",
     "text": [
      "100%|██████████| 474/474 [07:19<00:00,  1.08it/s]\n"
     ]
    },
    {
     "name": "stdout",
     "output_type": "stream",
     "text": [
      "season: 2016-17\n"
     ]
    },
    {
     "name": "stderr",
     "output_type": "stream",
     "text": [
      "100%|██████████| 484/484 [08:26<00:00,  1.05s/it]\n"
     ]
    },
    {
     "name": "stdout",
     "output_type": "stream",
     "text": [
      "season: 2017-18\n"
     ]
    },
    {
     "name": "stderr",
     "output_type": "stream",
     "text": [
      "100%|██████████| 538/538 [08:08<00:00,  1.10it/s]\n"
     ]
    },
    {
     "name": "stdout",
     "output_type": "stream",
     "text": [
      "season: 2018-19\n"
     ]
    },
    {
     "name": "stderr",
     "output_type": "stream",
     "text": [
      "100%|██████████| 528/528 [08:40<00:00,  1.01it/s]\n"
     ]
    },
    {
     "name": "stdout",
     "output_type": "stream",
     "text": [
      "season: 2019-20\n"
     ]
    },
    {
     "name": "stderr",
     "output_type": "stream",
     "text": [
      "100%|██████████| 527/527 [08:57<00:00,  1.02s/it]\n"
     ]
    },
    {
     "name": "stdout",
     "output_type": "stream",
     "text": [
      "season: 2020-21\n"
     ]
    },
    {
     "name": "stderr",
     "output_type": "stream",
     "text": [
      "100%|██████████| 538/538 [07:47<00:00,  1.15it/s]\n"
     ]
    },
    {
     "name": "stdout",
     "output_type": "stream",
     "text": [
      "season: 2021-22\n"
     ]
    },
    {
     "name": "stderr",
     "output_type": "stream",
     "text": [
      "100%|██████████| 603/603 [08:31<00:00,  1.18it/s]\n"
     ]
    },
    {
     "name": "stdout",
     "output_type": "stream",
     "text": [
      "season: 2022-23\n"
     ]
    },
    {
     "name": "stderr",
     "output_type": "stream",
     "text": [
      "100%|██████████| 537/537 [09:51<00:00,  1.10s/it]\n"
     ]
    },
    {
     "data": {
      "text/html": [
       "<div>\n",
       "<style scoped>\n",
       "    .dataframe tbody tr th:only-of-type {\n",
       "        vertical-align: middle;\n",
       "    }\n",
       "\n",
       "    .dataframe tbody tr th {\n",
       "        vertical-align: top;\n",
       "    }\n",
       "\n",
       "    .dataframe thead th {\n",
       "        text-align: right;\n",
       "    }\n",
       "</style>\n",
       "<table border=\"1\" class=\"dataframe\">\n",
       "  <thead>\n",
       "    <tr style=\"text-align: right;\">\n",
       "      <th></th>\n",
       "      <th>PLAYER</th>\n",
       "      <th>TEAM</th>\n",
       "      <th>AGE</th>\n",
       "      <th>HEIGHT</th>\n",
       "      <th>WEIGHT</th>\n",
       "      <th>COLLEGE</th>\n",
       "      <th>COUNTRY</th>\n",
       "      <th>DRAFT YEAR</th>\n",
       "      <th>DRAFT ROUND</th>\n",
       "      <th>DRAFT NUMBER</th>\n",
       "      <th>...</th>\n",
       "      <th>PTS</th>\n",
       "      <th>REB</th>\n",
       "      <th>AST</th>\n",
       "      <th>NETRTG</th>\n",
       "      <th>OREB%</th>\n",
       "      <th>DREB%</th>\n",
       "      <th>USG%</th>\n",
       "      <th>TS%</th>\n",
       "      <th>AST%</th>\n",
       "      <th>season</th>\n",
       "    </tr>\n",
       "  </thead>\n",
       "  <tbody>\n",
       "    <tr>\n",
       "      <th>0</th>\n",
       "      <td>A.C. Green</td>\n",
       "      <td>DAL</td>\n",
       "      <td>33</td>\n",
       "      <td>6-9</td>\n",
       "      <td>225</td>\n",
       "      <td>Oregon State</td>\n",
       "      <td>USA</td>\n",
       "      <td>1985</td>\n",
       "      <td>1</td>\n",
       "      <td>23</td>\n",
       "      <td>...</td>\n",
       "      <td>7.2</td>\n",
       "      <td>7.9</td>\n",
       "      <td>0.8</td>\n",
       "      <td>-7.4</td>\n",
       "      <td>8.9</td>\n",
       "      <td>18.4</td>\n",
       "      <td>11.8</td>\n",
       "      <td>52.3</td>\n",
       "      <td>4.5</td>\n",
       "      <td>1996-97</td>\n",
       "    </tr>\n",
       "    <tr>\n",
       "      <th>1</th>\n",
       "      <td>Aaron McKie</td>\n",
       "      <td>DET</td>\n",
       "      <td>24</td>\n",
       "      <td>6-5</td>\n",
       "      <td>209</td>\n",
       "      <td>Temple</td>\n",
       "      <td>USA</td>\n",
       "      <td>1994</td>\n",
       "      <td>1</td>\n",
       "      <td>17</td>\n",
       "      <td>...</td>\n",
       "      <td>5.2</td>\n",
       "      <td>2.7</td>\n",
       "      <td>1.9</td>\n",
       "      <td>3.7</td>\n",
       "      <td>2.6</td>\n",
       "      <td>11.3</td>\n",
       "      <td>14.2</td>\n",
       "      <td>52.4</td>\n",
       "      <td>16.3</td>\n",
       "      <td>1996-97</td>\n",
       "    </tr>\n",
       "    <tr>\n",
       "      <th>2</th>\n",
       "      <td>Aaron Williams</td>\n",
       "      <td>VAN</td>\n",
       "      <td>25</td>\n",
       "      <td>6-9</td>\n",
       "      <td>225</td>\n",
       "      <td>Xavier</td>\n",
       "      <td>USA</td>\n",
       "      <td>Undrafted</td>\n",
       "      <td>Undrafted</td>\n",
       "      <td>Undrafted</td>\n",
       "      <td>...</td>\n",
       "      <td>6.2</td>\n",
       "      <td>4.3</td>\n",
       "      <td>0.5</td>\n",
       "      <td>-9.3</td>\n",
       "      <td>11.3</td>\n",
       "      <td>14.4</td>\n",
       "      <td>16.1</td>\n",
       "      <td>59.9</td>\n",
       "      <td>5.1</td>\n",
       "      <td>1996-97</td>\n",
       "    </tr>\n",
       "    <tr>\n",
       "      <th>3</th>\n",
       "      <td>Acie Earl</td>\n",
       "      <td>MIL</td>\n",
       "      <td>27</td>\n",
       "      <td>6-11</td>\n",
       "      <td>240</td>\n",
       "      <td>Iowa</td>\n",
       "      <td>USA</td>\n",
       "      <td>1993</td>\n",
       "      <td>1</td>\n",
       "      <td>19</td>\n",
       "      <td>...</td>\n",
       "      <td>4.0</td>\n",
       "      <td>2.0</td>\n",
       "      <td>0.4</td>\n",
       "      <td>-6.4</td>\n",
       "      <td>6.7</td>\n",
       "      <td>12.2</td>\n",
       "      <td>22.0</td>\n",
       "      <td>43.5</td>\n",
       "      <td>7.7</td>\n",
       "      <td>1996-97</td>\n",
       "    </tr>\n",
       "    <tr>\n",
       "      <th>4</th>\n",
       "      <td>Adam Keefe</td>\n",
       "      <td>UTA</td>\n",
       "      <td>27</td>\n",
       "      <td>6-9</td>\n",
       "      <td>241</td>\n",
       "      <td>Stanford</td>\n",
       "      <td>USA</td>\n",
       "      <td>1992</td>\n",
       "      <td>1</td>\n",
       "      <td>10</td>\n",
       "      <td>...</td>\n",
       "      <td>3.8</td>\n",
       "      <td>3.5</td>\n",
       "      <td>0.5</td>\n",
       "      <td>7.2</td>\n",
       "      <td>9.6</td>\n",
       "      <td>15.8</td>\n",
       "      <td>12.4</td>\n",
       "      <td>57.2</td>\n",
       "      <td>5.1</td>\n",
       "      <td>1996-97</td>\n",
       "    </tr>\n",
       "    <tr>\n",
       "      <th>...</th>\n",
       "      <td>...</td>\n",
       "      <td>...</td>\n",
       "      <td>...</td>\n",
       "      <td>...</td>\n",
       "      <td>...</td>\n",
       "      <td>...</td>\n",
       "      <td>...</td>\n",
       "      <td>...</td>\n",
       "      <td>...</td>\n",
       "      <td>...</td>\n",
       "      <td>...</td>\n",
       "      <td>...</td>\n",
       "      <td>...</td>\n",
       "      <td>...</td>\n",
       "      <td>...</td>\n",
       "      <td>...</td>\n",
       "      <td>...</td>\n",
       "      <td>...</td>\n",
       "      <td>...</td>\n",
       "      <td>...</td>\n",
       "      <td>...</td>\n",
       "    </tr>\n",
       "    <tr>\n",
       "      <th>12787</th>\n",
       "      <td>Xavier Tillman</td>\n",
       "      <td>MEM</td>\n",
       "      <td>24</td>\n",
       "      <td>6-7</td>\n",
       "      <td>245</td>\n",
       "      <td>Michigan State</td>\n",
       "      <td>USA</td>\n",
       "      <td>2020</td>\n",
       "      <td>2</td>\n",
       "      <td>35</td>\n",
       "      <td>...</td>\n",
       "      <td>7.0</td>\n",
       "      <td>5.0</td>\n",
       "      <td>1.6</td>\n",
       "      <td>0.7</td>\n",
       "      <td>9.5</td>\n",
       "      <td>15.5</td>\n",
       "      <td>13.6</td>\n",
       "      <td>62.1</td>\n",
       "      <td>10.9</td>\n",
       "      <td>2022-23</td>\n",
       "    </tr>\n",
       "    <tr>\n",
       "      <th>12788</th>\n",
       "      <td>Yuta Watanabe</td>\n",
       "      <td>BKN</td>\n",
       "      <td>28</td>\n",
       "      <td>6-8</td>\n",
       "      <td>215</td>\n",
       "      <td>George Washington</td>\n",
       "      <td>Japan</td>\n",
       "      <td>Undrafted</td>\n",
       "      <td>Undrafted</td>\n",
       "      <td>Undrafted</td>\n",
       "      <td>...</td>\n",
       "      <td>5.6</td>\n",
       "      <td>2.4</td>\n",
       "      <td>0.8</td>\n",
       "      <td>-0.6</td>\n",
       "      <td>3.4</td>\n",
       "      <td>11.7</td>\n",
       "      <td>12.7</td>\n",
       "      <td>63.7</td>\n",
       "      <td>7.1</td>\n",
       "      <td>2022-23</td>\n",
       "    </tr>\n",
       "    <tr>\n",
       "      <th>12789</th>\n",
       "      <td>Zach Collins</td>\n",
       "      <td>SAS</td>\n",
       "      <td>25</td>\n",
       "      <td>6-11</td>\n",
       "      <td>250</td>\n",
       "      <td>Gonzaga</td>\n",
       "      <td>USA</td>\n",
       "      <td>2017</td>\n",
       "      <td>1</td>\n",
       "      <td>10</td>\n",
       "      <td>...</td>\n",
       "      <td>11.6</td>\n",
       "      <td>6.4</td>\n",
       "      <td>2.9</td>\n",
       "      <td>-7.5</td>\n",
       "      <td>7.6</td>\n",
       "      <td>19.0</td>\n",
       "      <td>20.9</td>\n",
       "      <td>59.9</td>\n",
       "      <td>18.0</td>\n",
       "      <td>2022-23</td>\n",
       "    </tr>\n",
       "    <tr>\n",
       "      <th>12790</th>\n",
       "      <td>Zach LaVine</td>\n",
       "      <td>CHI</td>\n",
       "      <td>28</td>\n",
       "      <td>6-5</td>\n",
       "      <td>200</td>\n",
       "      <td>UCLA</td>\n",
       "      <td>USA</td>\n",
       "      <td>2014</td>\n",
       "      <td>1</td>\n",
       "      <td>13</td>\n",
       "      <td>...</td>\n",
       "      <td>24.8</td>\n",
       "      <td>4.5</td>\n",
       "      <td>4.2</td>\n",
       "      <td>0.3</td>\n",
       "      <td>1.6</td>\n",
       "      <td>10.8</td>\n",
       "      <td>27.8</td>\n",
       "      <td>60.7</td>\n",
       "      <td>18.7</td>\n",
       "      <td>2022-23</td>\n",
       "    </tr>\n",
       "    <tr>\n",
       "      <th>12791</th>\n",
       "      <td>Zeke Nnaji</td>\n",
       "      <td>DEN</td>\n",
       "      <td>22</td>\n",
       "      <td>6-9</td>\n",
       "      <td>240</td>\n",
       "      <td>Arizona</td>\n",
       "      <td>USA</td>\n",
       "      <td>2020</td>\n",
       "      <td>1</td>\n",
       "      <td>22</td>\n",
       "      <td>...</td>\n",
       "      <td>5.2</td>\n",
       "      <td>2.6</td>\n",
       "      <td>0.3</td>\n",
       "      <td>-5.9</td>\n",
       "      <td>8.7</td>\n",
       "      <td>9.9</td>\n",
       "      <td>14.9</td>\n",
       "      <td>62.0</td>\n",
       "      <td>4.0</td>\n",
       "      <td>2022-23</td>\n",
       "    </tr>\n",
       "  </tbody>\n",
       "</table>\n",
       "<p>12792 rows × 21 columns</p>\n",
       "</div>"
      ],
      "text/plain": [
       "               PLAYER TEAM AGE HEIGHT WEIGHT            COLLEGE COUNTRY  \\\n",
       "0          A.C. Green  DAL  33    6-9    225       Oregon State     USA   \n",
       "1         Aaron McKie  DET  24    6-5    209             Temple     USA   \n",
       "2      Aaron Williams  VAN  25    6-9    225             Xavier     USA   \n",
       "3           Acie Earl  MIL  27   6-11    240               Iowa     USA   \n",
       "4          Adam Keefe  UTA  27    6-9    241           Stanford     USA   \n",
       "...               ...  ...  ..    ...    ...                ...     ...   \n",
       "12787  Xavier Tillman  MEM  24    6-7    245     Michigan State     USA   \n",
       "12788   Yuta Watanabe  BKN  28    6-8    215  George Washington   Japan   \n",
       "12789    Zach Collins  SAS  25   6-11    250            Gonzaga     USA   \n",
       "12790     Zach LaVine  CHI  28    6-5    200               UCLA     USA   \n",
       "12791      Zeke Nnaji  DEN  22    6-9    240            Arizona     USA   \n",
       "\n",
       "      DRAFT YEAR DRAFT ROUND DRAFT NUMBER  ...   PTS  REB  AST NETRTG OREB%  \\\n",
       "0           1985           1           23  ...   7.2  7.9  0.8   -7.4   8.9   \n",
       "1           1994           1           17  ...   5.2  2.7  1.9    3.7   2.6   \n",
       "2      Undrafted   Undrafted    Undrafted  ...   6.2  4.3  0.5   -9.3  11.3   \n",
       "3           1993           1           19  ...   4.0  2.0  0.4   -6.4   6.7   \n",
       "4           1992           1           10  ...   3.8  3.5  0.5    7.2   9.6   \n",
       "...          ...         ...          ...  ...   ...  ...  ...    ...   ...   \n",
       "12787       2020           2           35  ...   7.0  5.0  1.6    0.7   9.5   \n",
       "12788  Undrafted   Undrafted    Undrafted  ...   5.6  2.4  0.8   -0.6   3.4   \n",
       "12789       2017           1           10  ...  11.6  6.4  2.9   -7.5   7.6   \n",
       "12790       2014           1           13  ...  24.8  4.5  4.2    0.3   1.6   \n",
       "12791       2020           1           22  ...   5.2  2.6  0.3   -5.9   8.7   \n",
       "\n",
       "      DREB%  USG%   TS%  AST%   season  \n",
       "0      18.4  11.8  52.3   4.5  1996-97  \n",
       "1      11.3  14.2  52.4  16.3  1996-97  \n",
       "2      14.4  16.1  59.9   5.1  1996-97  \n",
       "3      12.2  22.0  43.5   7.7  1996-97  \n",
       "4      15.8  12.4  57.2   5.1  1996-97  \n",
       "...     ...   ...   ...   ...      ...  \n",
       "12787  15.5  13.6  62.1  10.9  2022-23  \n",
       "12788  11.7  12.7  63.7   7.1  2022-23  \n",
       "12789  19.0  20.9  59.9  18.0  2022-23  \n",
       "12790  10.8  27.8  60.7  18.7  2022-23  \n",
       "12791   9.9  14.9  62.0   4.0  2022-23  \n",
       "\n",
       "[12792 rows x 21 columns]"
      ]
     },
     "execution_count": 4,
     "metadata": {},
     "output_type": "execute_result"
    }
   ],
   "source": [
    "data_list = []\n",
    "for season in seasons:\n",
    "    print(f\"season: {season}\")\n",
    "    driver = webdriver.Chrome('../chromedriver.exe')\n",
    "    driver.get(f'https://www.nba.com/stats/players/bio?Season={season}')\n",
    "    time.sleep(2)\n",
    "    select = Select(driver.find_element(By.XPATH,'//*[@id=\"__next\"]/div[2]/div[2]/div[3]/section[2]/div/div[2]/div[2]/div[1]/div[3]/div/label/div/select'))\n",
    "    select.select_by_value('-1')\n",
    "    cols = len(table_header_webelement)\n",
    "    rows = len(driver.find_elements(By.XPATH,\n",
    "                        '//*[@id=\"__next\"]/div[2]/div[2]/div[3]/section[2]/div/div[2]/div[3]/table/tbody/tr'))\n",
    "\n",
    "    # to extract on a column basis, loop over the columns and append to list by looping over rows\n",
    "    for i in trange(1,rows - 1):\n",
    "    # for i in trange(1,3):\n",
    "        row = []\n",
    "        extracted_row = driver.find_elements(By.XPATH,\n",
    "                        f'//*[@id=\"__next\"]/div[2]/div[2]/div[3]/section[2]/div/div[2]/div[3]/table/tbody/tr[{i}]/td')\n",
    "        for j in range(0,cols):\n",
    "            row.append(extracted_row[j].text)\n",
    "        \n",
    "        row.append(season)\n",
    "        data_list.append(row)\n",
    "    \n",
    "    driver.close\n",
    "\n",
    "    \n",
    "pd.DataFrame(data=data_list, columns=header)"
   ]
  },
  {
   "cell_type": "code",
   "execution_count": 11,
   "metadata": {},
   "outputs": [],
   "source": [
    "data = pd.DataFrame(data=data_list, columns=header)\n",
    "data.to_csv(\"../data/nba_player_bio.csv\")"
   ]
  }
 ],
 "metadata": {
  "kernelspec": {
   "display_name": "nba_analysis",
   "language": "python",
   "name": "python3"
  },
  "language_info": {
   "codemirror_mode": {
    "name": "ipython",
    "version": 3
   },
   "file_extension": ".py",
   "mimetype": "text/x-python",
   "name": "python",
   "nbconvert_exporter": "python",
   "pygments_lexer": "ipython3",
   "version": "3.10.10"
  },
  "orig_nbformat": 4
 },
 "nbformat": 4,
 "nbformat_minor": 2
}
