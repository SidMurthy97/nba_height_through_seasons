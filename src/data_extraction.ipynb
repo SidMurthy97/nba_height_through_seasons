{
 "cells": [
  {
   "cell_type": "code",
   "execution_count": 1,
   "metadata": {},
   "outputs": [],
   "source": [
    "import pandas as pd\n",
    "import numpy as np\n",
    "import matplotlib.pyplot as plt\n",
    "from tqdm import tqdm, trange\n",
    "import seaborn as sns\n",
    "from pprint import pprint\n",
    "import requests\n",
    "from bs4 import BeautifulSoup\n",
    "from selenium import webdriver\n",
    "from selenium.webdriver.common.keys import Keys\n",
    "from selenium.webdriver.common.by import By\n"
   ]
  },
  {
   "cell_type": "code",
   "execution_count": 2,
   "metadata": {},
   "outputs": [
    {
     "name": "stderr",
     "output_type": "stream",
     "text": [
      "C:\\Users\\sid.murthy\\AppData\\Local\\Temp\\ipykernel_10092\\3755758595.py:1: DeprecationWarning: executable_path has been deprecated, please pass in a Service object\n",
      "  driver = webdriver.Chrome('../chromedriver.exe')\n"
     ]
    }
   ],
   "source": [
    "driver = webdriver.Chrome('../chromedriver.exe')\n",
    "driver.get('https://www.nba.com/stats/players/bio')"
   ]
  },
  {
   "cell_type": "code",
   "execution_count": 3,
   "metadata": {},
   "outputs": [],
   "source": [
    "rows = len(driver.find_elements(By.XPATH,\n",
    "                    '//*[@id=\"__next\"]/div[2]/div[2]/div[3]/section[2]/div/div[2]/div[3]/table/tbody/tr'))\n",
    "\n",
    "cols = len(driver.find_elements(By.XPATH,\n",
    "                    '//*[@id=\"__next\"]/div[2]/div[2]/div[3]/section[2]/div/div[2]/div[3]/table/tbody/tr[3]/td'))"
   ]
  },
  {
   "cell_type": "code",
   "execution_count": 4,
   "metadata": {},
   "outputs": [
    {
     "name": "stdout",
     "output_type": "stream",
     "text": [
      "A.J. Lawson DAL 22 6-6 179 South Carolina Canada Undrafted Undrafted Undrafted 13.0 2.6 0.8 0.1 -10.9 2.8 15.1 18.2 62.2 2.9\n",
      "AJ Green MIL 23 6-5 190 Northern Iowa USA Undrafted Undrafted Undrafted 32.0 4.3 1.2 0.6 -5.7 1.5 9.8 16.0 62.7 9.5\n",
      "AJ Griffin ATL 19 6-6 220 Duke USA 2022 1 16 65.0 8.9 2.1 1.0 0.9 2.4 8.1 17.4 57.9 6.8\n",
      "Aaron Gordon DEN 27 6-8 235 Arizona USA 2014 1 4 61.0 16.6 6.5 2.9 13.7 8.7 13.9 20.6 63.5 12.5\n",
      "Aaron Holiday ATL 26 6-0 185 UCLA USA 2018 1 23 56.0 3.9 1.2 1.4 -0.2 2.7 6.2 12.7 52.8 13.0\n",
      "Aaron Nesmith IND 23 6-5 215 Vanderbilt USA 2020 1 14 64.0 10.0 3.8 1.3 -2.1 3.4 12.1 16.9 56.4 7.0\n",
      "Aaron Wiggins OKC 24 6-5 190 Maryland USA 2021 2 55 61.0 6.5 3.1 1.2 1.5 5.2 11.1 14.1 58.7 8.8\n",
      "Admiral Schofield ORL 25 6-5 241 Tennessee United Kingdom 2019 2 42 31.0 4.2 1.7 0.8 -5.7 4.8 9.6 12.7 62.4 10.1\n",
      "Al Horford BOS 36 6-9 240 Florida Dominican Republic 2007 1 3 57.0 9.9 6.2 2.9 6.9 3.9 15.5 11.6 64.4 12.4\n",
      "Alec Burks DET 31 6-6 214 Colorado USA 2011 1 12 51.0 12.8 3.1 2.2 -1.0 1.7 12.4 21.8 60.2 15.0\n",
      "Aleksej Pokusevski OKC 21 7-0 210 None Serbia 2020 1 17 31.0 8.8 5.1 2.0 -12.6 6.0 16.3 17.9 53.0 13.1\n",
      "Alex Caruso CHI 29 6-5 186 Texas A&M USA Undrafted Undrafted Undrafted 59.0 5.6 3.0 3.0 5.8 2.7 10.0 11.0 58.0 16.0\n",
      "Alex Len SAC 29 7-2 250 Maryland Ukraine 2013 1 5 18.0 0.7 0.9 0.3 -20.1 6.7 19.1 15.0 47.2 14.6\n",
      "Alize Johnson SAS 26 6-8 212 Missouri State USA 2018 2 50 4.0 1.8 2.5 0.3 19.0 6.3 21.1 14.5 50.9 4.2\n",
      "Alondes Williams BKN 23 6-4 210 Wake Forest USA Undrafted Undrafted Undrafted 1.0 0.0 1.0 0.0 -53.0 0.0 25.0 14.3 0.0 0.0\n",
      "Alperen Sengun HOU 20 6-11 243 None Turkey 2021 1 16 66.0 14.8 8.7 3.8 -7.8 10.8 19.7 21.3 60.2 20.2\n",
      "Amir Coffey LAC 25 6-7 210 Minnesota USA Undrafted Undrafted Undrafted 46.0 3.6 1.1 1.1 -8.6 2.7 5.6 12.7 49.1 12.1\n",
      "Andre Drummond CHI 29 6-11 279 Connecticut USA 2012 1 9 59.0 6.0 6.6 0.5 3.4 16.1 34.5 19.7 61.1 6.3\n",
      "Andre Iguodala GSW 39 6-6 215 Arizona USA 2004 1 9 8.0 2.1 2.1 2.4 12.0 2.7 11.3 8.9 52.1 18.3\n",
      "Andrew Nembhard IND 23 6-3 191 Gonzaga Canada 2022 2 31 66.0 8.9 2.6 4.1 -5.3 1.6 7.9 15.3 52.5 20.3\n",
      "Andrew Wiggins GSW 28 6-7 197 Kansas Canada 2014 1 1 37.0 17.1 5.0 2.3 5.2 5.0 10.1 21.2 56.4 10.0\n",
      "Anfernee Simons POR 23 6-3 181 None USA 2018 1 24 62.0 21.1 2.6 4.1 -1.6 0.8 6.7 24.7 58.1 18.6\n",
      "Anthony Davis LAL 30 6-10 253 Kentucky USA 2012 1 1 47.0 25.9 12.4 2.6 3.5 9.7 24.9 28.0 62.6 12.8\n",
      "Anthony Edwards MIN 21 6-4 225 Georgia USA 2020 1 1 71.0 24.7 5.9 4.4 1.5 1.5 14.2 29.1 56.7 19.0\n",
      "Anthony Gill WAS 30 6-8 230 Virginia USA Undrafted Undrafted Undrafted 50.0 3.1 1.6 0.5 -1.6 6.2 10.1 11.1 65.3 6.7\n",
      "Anthony Lamb GSW 25 6-6 227 Vermont USA Undrafted Undrafted Undrafted 54.0 7.1 3.5 1.6 1.4 4.4 12.8 13.7 61.9 11.5\n",
      "Austin Reaves LAL 24 6-5 197 Oklahoma USA Undrafted Undrafted Undrafted 55.0 12.3 3.0 3.0 2.7 1.9 8.0 15.1 67.7 14.4\n",
      "Austin Rivers MIN 30 6-4 200 Duke USA 2012 1 10 52.0 4.9 1.6 1.4 -4.9 0.5 7.8 10.4 56.4 9.5\n",
      "Ayo Dosunmu CHI 23 6-5 200 Illinois USA 2021 2 38 70.0 8.8 2.9 2.6 -3.6 2.3 8.2 14.6 57.1 13.8\n",
      "Bam Adebayo MIA 25 6-9 255 Kentucky USA 2017 1 14 69.0 21.0 9.3 3.3 2.5 7.1 20.7 25.2 59.4 15.5\n",
      "Ben Simmons BKN 26 6-10 240 Louisiana State Australia 2016 1 1 42.0 6.9 6.3 6.1 2.1 4.0 18.6 14.2 55.9 29.5\n",
      "Bennedict Mathurin IND 20 6-5 210 Arizona Canada 2022 1 6 69.0 16.6 4.0 1.4 -2.9 3.6 10.3 23.9 56.4 7.6\n",
      "Bismack Biyombo PHX 30 6-8 255 None DRC 2011 1 7 52.0 3.7 4.0 0.9 1.6 7.9 19.1 13.1 53.7 9.1\n",
      "Blake Griffin BOS 34 6-9 250 Oklahoma USA 2009 1 1 34.0 4.5 3.7 1.3 8.2 7.2 18.7 12.9 58.7 12.0\n",
      "Blake Wesley SAS 20 6-4 185 Notre Dame USA 2022 1 25 28.0 5.0 2.0 2.3 -9.6 1.7 9.9 18.6 40.4 18.6\n",
      "Boban Marjanovic HOU 34 7-4 290 None Serbia Undrafted Undrafted Undrafted 25.0 3.2 1.7 0.2 18.8 11.0 23.4 21.8 72.0 6.6\n",
      "Bobby Portis MIL 28 6-11 250 Arkansas USA 2015 1 22 61.0 13.9 9.6 1.6 0.9 8.2 25.8 20.9 57.5 9.2\n",
      "Bogdan Bogdanovic ATL 30 6-5 225 None Serbia 2014 1 27 47.0 14.1 3.1 2.8 0.8 1.4 9.4 20.0 57.6 13.3\n",
      "Bojan Bogdanovic DET 33 6-7 226 None Croatia 2011 2 31 59.0 21.6 3.8 2.6 -8.2 1.8 9.9 25.1 62.7 13.3\n",
      "Bol Bol ORL 23 7-2 220 Oregon Sudan 2019 2 44 67.0 9.0 5.8 0.9 -3.5 4.6 22.0 17.3 62.2 6.4\n",
      "Bones Hyland LAC 22 6-2 169 Virginia Commonwealth USA 2021 1 26 48.0 11.6 2.3 2.9 -5.9 1.8 10.4 27.4 53.2 23.7\n",
      "Bradley Beal WAS 29 6-4 207 Florida USA 2012 1 3 50.0 23.2 3.9 5.4 0.7 2.6 9.1 28.8 59.3 26.0\n",
      "Brandon Boston Jr. LAC 21 6-6 188 Kentucky USA 2021 2 51 21.0 6.8 1.4 0.9 -7.4 2.4 9.4 23.6 51.9 12.4\n",
      "Brandon Clarke MEM 26 6-8 215 Gonzaga Canada 2019 1 21 56.0 10.0 5.5 1.3 0.7 7.9 17.7 17.4 68.1 10.0\n",
      "Brandon Ingram NOP 25 6-8 190 Duke USA 2016 1 2 36.0 23.7 5.0 5.2 1.1 1.2 14.2 30.6 57.5 25.3\n",
      "Braxton Key DET 26 6-8 225 Virginia USA Undrafted Undrafted Undrafted 3.0 1.3 0.3 0.0 -4.5 0.0 6.7 9.1 106.4 0.0\n",
      "Brook Lopez MIL 34 7-1 282 Stanford USA 2008 1 10 70.0 15.6 6.6 1.3 5.9 6.0 13.6 18.4 62.4 6.1\n",
      "Bruce Brown DEN 26 6-4 202 Miami USA 2018 2 42 72.0 10.9 4.0 3.3 1.0 2.8 11.8 16.9 56.9 16.3\n",
      "Bruno Fernando ATL 24 6-10 240 Maryland Angola 2019 2 34 35.0 3.7 3.5 0.9 -10.1 12.4 18.8 15.1 55.9 12.4\n"
     ]
    }
   ],
   "source": [
    "for i in range(1,rows):\n",
    "    print(\n",
    "        driver.find_element(By.XPATH,\n",
    "                    f'//*[@id=\"__next\"]/div[2]/div[2]/div[3]/section[2]/div/div[2]/div[3]/table/tbody/tr[{i}]').text\n",
    "    )"
   ]
  }
 ],
 "metadata": {
  "kernelspec": {
   "display_name": "nba_analysis",
   "language": "python",
   "name": "python3"
  },
  "language_info": {
   "codemirror_mode": {
    "name": "ipython",
    "version": 3
   },
   "file_extension": ".py",
   "mimetype": "text/x-python",
   "name": "python",
   "nbconvert_exporter": "python",
   "pygments_lexer": "ipython3",
   "version": "3.10.10"
  },
  "orig_nbformat": 4
 },
 "nbformat": 4,
 "nbformat_minor": 2
}
